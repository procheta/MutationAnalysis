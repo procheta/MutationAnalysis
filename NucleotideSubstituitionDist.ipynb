{
 "cells": [
  {
   "cell_type": "code",
   "execution_count": 14,
   "metadata": {},
   "outputs": [
    {
     "name": "stdout",
     "output_type": "stream",
     "text": [
      "Done  CometInput\n",
      "Done  CometInput\n",
      "Done  CometInput\n",
      "Done  CometInput\n",
      "Done  CometInput\n",
      "Done  CometInput\n",
      "Done  CometInput\n",
      "Done  CometInput\n",
      "Done  CometInput\n",
      "Done  CometInput\n",
      "Done  CometInput\n",
      "Done  CometInput\n",
      "Done  CometInput\n",
      "Done  CometInput\n",
      "Done  CometInput\n",
      "Done  CometInput\n",
      "Done  CometInput\n",
      "Done  CometInput\n",
      "Done  CometInput\n",
      "Done  CometInput\n",
      "Done  CometInput\n",
      "Done  CometInput\n",
      "Done  CometInput\n",
      "Done  CometInput\n",
      "Done  CometInput\n",
      "Done  CometInput\n",
      "Done  CometInput\n",
      "Done  CometInput\n",
      "Done  CometInput\n",
      "Done  CometInput\n",
      "Done  CometInput\n",
      "Done  CometInput\n",
      "Done  CometInput\n",
      "Done  CometInput\n",
      "Done  CometInput\n",
      "Done  CometInput\n",
      "Done  CometInput\n",
      "Done  CometInput\n",
      "Done  CometInput\n",
      "Done  CometInput\n",
      "Done  CometInput\n",
      "Done  CometInput\n",
      "Done  CometInput\n",
      "Done  CometInput\n",
      "Done  CometInput\n"
     ]
    }
   ],
   "source": [
    "import os\n",
    "directory=\"/Users/prochetasen/CometInputData/Nucliotide_Substituitions/LineageInput/\"\n",
    "with open(\"/Users/prochetasen/Desktop/lineage_Dist.txt\",\"w\") as f1:    \n",
    "    for filename in os.listdir(directory):\n",
    "        lineage=filename.split(\"_\")[0]\n",
    "        lineageFile=\"/Users/prochetasen/CometInputData/Nucliotide_Substituitions/LineageInput/\"+filename\n",
    "        sub_dist={}\n",
    "        maxVal=0\n",
    "        count=0        \n",
    "        with open(lineageFile,\"r\") as f:\n",
    "            for line in f:\n",
    "                st=line.split(\"\\n\")[0].split(\"\\t\")\n",
    "                for s in range(1,len(st)):\n",
    "                    if st[s] in sub_dist.keys():\n",
    "                        sub_dist[st[s]]=sub_dist[st[s]]+1\n",
    "                    else:\n",
    "                        sub_dist[st[s]]=1\n",
    "                count=count+1\n",
    "        f1.write(lineage)\n",
    "        f1.write(\"\\t\")\n",
    "        for key in sub_dist.keys():\n",
    "            f1.write(key)\n",
    "            f1.write(\"#\")\n",
    "            x=(sub_dist[key]/count)*100\n",
    "            f1.write(\"%.2f\" %x)\n",
    "            f1.write(\"\\t\")\n",
    "        f1.write(\"\\n\")\n",
    "        print(\"Done \",lineage)\n",
    "f1.close()\n",
    "        \n"
   ]
  },
  {
   "cell_type": "code",
   "execution_count": null,
   "metadata": {},
   "outputs": [],
   "source": []
  }
 ],
 "metadata": {
  "kernelspec": {
   "display_name": "Python 3",
   "language": "python",
   "name": "python3"
  },
  "language_info": {
   "codemirror_mode": {
    "name": "ipython",
    "version": 3
   },
   "file_extension": ".py",
   "mimetype": "text/x-python",
   "name": "python",
   "nbconvert_exporter": "python",
   "pygments_lexer": "ipython3",
   "version": "3.8.5"
  }
 },
 "nbformat": 4,
 "nbformat_minor": 4
}
