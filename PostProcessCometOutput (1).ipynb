{
 "cells": [
  {
   "cell_type": "code",
   "execution_count": null,
   "metadata": {},
   "outputs": [],
   "source": [
    "import os\n",
    "\n",
    "directory=\"/Users/prochetasen/graphs/comet_graph_output/\"\n",
    "for filename in os.listdir(directory):\n",
    "    filename=os.path.join(directory, filename)\n",
    "    print(filename)\n",
    "    with open(filename,\"r\") as f1:\n",
    "        writeFile=filename.split(\".txt\")[0]+\"_modified.txt\"\n",
    "        print(writeFile)\n",
    "        with open(writeFile,\"w\") as f2: \n",
    "            for line in f1:\n",
    "                x=line.split(\"\\n\")[0]\n",
    "                st=x.split(\"\\t\")\n",
    "                if float(st[2]) > 0.1:\n",
    "                    f2.write(line)\n",
    "        f2.close()"
   ]
  },
  {
   "cell_type": "code",
   "execution_count": null,
   "metadata": {},
   "outputs": [],
   "source": [
    "directory=\"/Users/prochetasen/graphs/comet_phi_output/\"\n",
    "for filename in os.listdir(directory):\n",
    "    filename=os.path.join(directory, filename)\n",
    "    print(filename)\n",
    "    with open(filename,\"r\") as f1:\n",
    "        writeFile=filename.split(\".txt\")[0]+\"_modified.txt\"\n",
    "        print(writeFile)\n",
    "        with open(writeFile,\"w\") as f2: \n",
    "            flag=0\n",
    "            for line in f1:\n",
    "                if flag == 0:\n",
    "                    flag = 1\n",
    "                    f2.write(line)\n",
    "                else:\n",
    "                    x=line.split(\"\\n\")[0]\n",
    "                    st=x.split(\"\\t\")\n",
    "                    if float(st[4]) < .001:\n",
    "                        f2.write(line)\n",
    "        f2.close()"
   ]
  },
  {
   "cell_type": "code",
   "execution_count": 15,
   "metadata": {},
   "outputs": [
    {
     "name": "stdout",
     "output_type": "stream",
     "text": [
      "/Users/prochetasen/graphs/comet_lineage_graph_output/modified_graph/B.1.427_modified.txt\n",
      "/Users/prochetasen/graphs/comet_lineage_graph_output/modified_graph/B.1.351_modified.txt\n",
      "/Users/prochetasen/graphs/comet_lineage_graph_output/modified_graph/B.1.517_modified.txt\n",
      "/Users/prochetasen/graphs/comet_lineage_graph_output/modified_graph/B.1.234_modified.txt\n",
      "/Users/prochetasen/graphs/comet_lineage_graph_output/modified_graph/B.1.1.434_modified.txt\n",
      "/Users/prochetasen/graphs/comet_lineage_graph_output/modified_graph/B.1.1.317_modified.txt\n",
      "/Users/prochetasen/graphs/comet_lineage_graph_output/modified_graph/B.1.526_modified.txt\n",
      "/Users/prochetasen/graphs/comet_lineage_graph_output/modified_graph/B.1.609_modified.txt\n",
      "/Users/prochetasen/graphs/comet_lineage_graph_output/modified_graph/B.1.1_modified.txt\n",
      "/Users/prochetasen/graphs/comet_lineage_graph_output/modified_graph/R.1_modified.txt\n",
      "/Users/prochetasen/graphs/comet_lineage_graph_output/modified_graph/B.1.177.73_modified.txt\n",
      "/Users/prochetasen/graphs/comet_lineage_graph_output/modified_graph/B.1.1.50_modified.txt\n",
      "/Users/prochetasen/graphs/comet_lineage_graph_output/modified_graph/P.1_modified.txt\n",
      "/Users/prochetasen/graphs/comet_lineage_graph_output/modified_graph/B.1.526.1_modified.txt\n",
      "/Users/prochetasen/graphs/comet_lineage_graph_output/modified_graph/B.1.177.81_modified.txt\n",
      "/Users/prochetasen/graphs/comet_lineage_graph_output/modified_graph/B.1.177.79_modified.txt\n",
      "/Users/prochetasen/graphs/comet_lineage_graph_output/modified_graph/B.1.595_modified.txt\n",
      "/Users/prochetasen/graphs/comet_lineage_graph_output/modified_graph/B.1.1.348_modified.txt\n",
      "/Users/prochetasen/graphs/comet_lineage_graph_output/modified_graph/B.1.160_modified.txt\n",
      "/Users/prochetasen/graphs/comet_lineage_graph_output/modified_graph/B.1.526.2_modified.txt\n",
      "/Users/prochetasen/graphs/comet_lineage_graph_output/modified_graph/B.1.177_modified.txt\n",
      "/Users/prochetasen/graphs/comet_lineage_graph_output/modified_graph/B.1.497_modified.txt\n",
      "/Users/prochetasen/graphs/comet_lineage_graph_output/modified_graph/graph_B.1.497_modified.txt\n"
     ]
    },
    {
     "name": "stderr",
     "output_type": "stream",
     "text": [
      "<ipython-input-15-9dd1742e4693>:48: RuntimeWarning: More than 20 figures have been opened. Figures created through the pyplot interface (`matplotlib.pyplot.figure`) are retained until explicitly closed and may consume too much memory. (To control this warning, see the rcParam `figure.max_open_warning`).\n",
      "  plt.figure(figsize=(8,2))\n"
     ]
    },
    {
     "name": "stdout",
     "output_type": "stream",
     "text": [
      "/Users/prochetasen/graphs/comet_lineage_graph_output/modified_graph/B.1.214.2_modified.txt\n",
      "/Users/prochetasen/graphs/comet_lineage_graph_output/modified_graph/B.1.258.17_modified.txt\n",
      "/Users/prochetasen/graphs/comet_lineage_graph_output/modified_graph/B.1.525_modified.txt\n",
      "/Users/prochetasen/graphs/comet_lineage_graph_output/modified_graph/B.1.619_modified.txt\n"
     ]
    },
    {
     "data": {
      "text/plain": [
       "<Figure size 576x144 with 0 Axes>"
      ]
     },
     "metadata": {},
     "output_type": "display_data"
    },
    {
     "data": {
      "text/plain": [
       "<Figure size 576x144 with 0 Axes>"
      ]
     },
     "metadata": {},
     "output_type": "display_data"
    },
    {
     "data": {
      "text/plain": [
       "<Figure size 576x144 with 0 Axes>"
      ]
     },
     "metadata": {},
     "output_type": "display_data"
    },
    {
     "data": {
      "text/plain": [
       "<Figure size 576x144 with 0 Axes>"
      ]
     },
     "metadata": {},
     "output_type": "display_data"
    },
    {
     "data": {
      "text/plain": [
       "<Figure size 576x144 with 0 Axes>"
      ]
     },
     "metadata": {},
     "output_type": "display_data"
    },
    {
     "data": {
      "text/plain": [
       "<Figure size 576x144 with 0 Axes>"
      ]
     },
     "metadata": {},
     "output_type": "display_data"
    },
    {
     "data": {
      "text/plain": [
       "<Figure size 576x144 with 0 Axes>"
      ]
     },
     "metadata": {},
     "output_type": "display_data"
    },
    {
     "data": {
      "text/plain": [
       "<Figure size 576x144 with 0 Axes>"
      ]
     },
     "metadata": {},
     "output_type": "display_data"
    },
    {
     "data": {
      "text/plain": [
       "<Figure size 576x144 with 0 Axes>"
      ]
     },
     "metadata": {},
     "output_type": "display_data"
    },
    {
     "data": {
      "text/plain": [
       "<Figure size 576x144 with 0 Axes>"
      ]
     },
     "metadata": {},
     "output_type": "display_data"
    },
    {
     "data": {
      "text/plain": [
       "<Figure size 576x144 with 0 Axes>"
      ]
     },
     "metadata": {},
     "output_type": "display_data"
    },
    {
     "data": {
      "text/plain": [
       "<Figure size 576x144 with 0 Axes>"
      ]
     },
     "metadata": {},
     "output_type": "display_data"
    },
    {
     "data": {
      "text/plain": [
       "<Figure size 576x144 with 0 Axes>"
      ]
     },
     "metadata": {},
     "output_type": "display_data"
    },
    {
     "data": {
      "text/plain": [
       "<Figure size 576x144 with 0 Axes>"
      ]
     },
     "metadata": {},
     "output_type": "display_data"
    },
    {
     "data": {
      "text/plain": [
       "<Figure size 576x144 with 0 Axes>"
      ]
     },
     "metadata": {},
     "output_type": "display_data"
    },
    {
     "data": {
      "text/plain": [
       "<Figure size 576x144 with 0 Axes>"
      ]
     },
     "metadata": {},
     "output_type": "display_data"
    },
    {
     "data": {
      "text/plain": [
       "<Figure size 576x144 with 0 Axes>"
      ]
     },
     "metadata": {},
     "output_type": "display_data"
    },
    {
     "data": {
      "text/plain": [
       "<Figure size 576x144 with 0 Axes>"
      ]
     },
     "metadata": {},
     "output_type": "display_data"
    },
    {
     "data": {
      "text/plain": [
       "<Figure size 576x144 with 0 Axes>"
      ]
     },
     "metadata": {},
     "output_type": "display_data"
    },
    {
     "data": {
      "text/plain": [
       "<Figure size 576x144 with 0 Axes>"
      ]
     },
     "metadata": {},
     "output_type": "display_data"
    },
    {
     "data": {
      "text/plain": [
       "<Figure size 576x144 with 0 Axes>"
      ]
     },
     "metadata": {},
     "output_type": "display_data"
    },
    {
     "data": {
      "text/plain": [
       "<Figure size 576x144 with 0 Axes>"
      ]
     },
     "metadata": {},
     "output_type": "display_data"
    },
    {
     "data": {
      "text/plain": [
       "<Figure size 576x144 with 0 Axes>"
      ]
     },
     "metadata": {},
     "output_type": "display_data"
    },
    {
     "data": {
      "text/plain": [
       "<Figure size 576x144 with 0 Axes>"
      ]
     },
     "metadata": {},
     "output_type": "display_data"
    },
    {
     "data": {
      "text/plain": [
       "<Figure size 576x144 with 0 Axes>"
      ]
     },
     "metadata": {},
     "output_type": "display_data"
    },
    {
     "data": {
      "text/plain": [
       "<Figure size 576x144 with 0 Axes>"
      ]
     },
     "metadata": {},
     "output_type": "display_data"
    },
    {
     "data": {
      "text/plain": [
       "<Figure size 576x144 with 0 Axes>"
      ]
     },
     "metadata": {},
     "output_type": "display_data"
    }
   ],
   "source": [
    "import os\n",
    "import networkx as nx\n",
    "import matplotlib.pyplot as plt\n",
    "from matplotlib.pyplot import figure, text\n",
    "directory=\"/Users/prochetasen/graphs/comet_lineage_graph_output/modified_graph/\"\n",
    "count=0\n",
    "\n",
    "nodeDict={}\n",
    "edgeDict={}\n",
    "edges=[]\n",
    "node_labels={}\n",
    "\n",
    "for filename in os.listdir(directory):    \n",
    "    prefix=filename\n",
    "    filename=os.path.join(directory, filename)\n",
    "    print(filename)\n",
    "    count=count+1\n",
    "    nodeDict={}\n",
    "    edgeDict={}\n",
    "    edges=[]\n",
    "    node_labels={}\n",
    "    color_map=[]\n",
    "    with open(filename,\"r\") as f:\n",
    "        for line in f:\n",
    "            x=[]\n",
    "            st=line.split(\"\\n\")[0].split(\"\\t\")\n",
    "            x.append(st[0])\n",
    "            x.append(st[1])\n",
    "            x.append(st[2])\n",
    "            if float(st[2]) in edgeDict.keys():\n",
    "                l=edgeDict[float(st[2])]\n",
    "                l.append(st[0]+\"#\"+st[1])\n",
    "                edgeDict[float(st[2])]=l\n",
    "            else:\n",
    "                l=[]\n",
    "                l.append(st[0]+\"#\"+st[1])\n",
    "                edgeDict[float(st[2])]=l\n",
    "            edges.append(x)\n",
    "            if st[0] not in nodeDict.keys():\n",
    "                nodeDict[st[0]] =0.0\n",
    "            if st[1] not in nodeDict.keys():\n",
    "                nodeDict[st[1]] =0.0\n",
    "        for i in range(len(edges)):\n",
    "            x=edges[i]\n",
    "            for j in range(2):\n",
    "                if x[j] not in node_labels.keys():\n",
    "                    node_labels[x[j]]=x[j] \n",
    "        plt.figure(figsize=(8,2))\n",
    "        #print(node_labels)\n",
    "        G= nx.Graph()   \n",
    "        for i in node_labels.keys():\n",
    "            G.add_node(i, color=\"lightgray\")\n",
    "        for i in range(len(edges)):\n",
    "            G.add_edge(edges[i][0],edges[i][1],weight=float(edges[i][2]))\n",
    "        for node in node_labels.keys():\n",
    "            color_map.append('lightgrey')\n",
    "    \n",
    "        \n",
    "        pos=nx.spring_layout(G)\n",
    "        d = dict(G.degree)\n",
    "        elabels = nx.get_edge_attributes(G,'weight')\n",
    "\n",
    "        nx.draw(G,pos,node_color=color_map,with_labels=False)\n",
    "        for node, (x, y) in pos.items():\n",
    "            text(x, y, node, fontsize=8, ha='center', va='center')\n",
    "        nx.draw_networkx_edge_labels(G,pos,edge_labels=elabels)\n",
    "        name=prefix.split(\"_modified.txt\")[0]\n",
    "        plt.savefig(\"/Users/prochetasen/Desktop/graph_images/\"+name+\".png\")\n",
    "        #plt.show()\n",
    "        plt.clf()\n",
    "    #if count==2:\n",
    "        #break"
   ]
  },
  {
   "cell_type": "code",
   "execution_count": null,
   "metadata": {},
   "outputs": [],
   "source": []
  }
 ],
 "metadata": {
  "kernelspec": {
   "display_name": "Python 3",
   "language": "python",
   "name": "python3"
  },
  "language_info": {
   "codemirror_mode": {
    "name": "ipython",
    "version": 3
   },
   "file_extension": ".py",
   "mimetype": "text/x-python",
   "name": "python",
   "nbconvert_exporter": "python",
   "pygments_lexer": "ipython3",
   "version": "3.8.5"
  }
 },
 "nbformat": 4,
 "nbformat_minor": 4
}
