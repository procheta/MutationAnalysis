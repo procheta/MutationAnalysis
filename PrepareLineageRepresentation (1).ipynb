{
 "cells": [
  {
   "cell_type": "code",
   "execution_count": 17,
   "metadata": {},
   "outputs": [],
   "source": [
    "#Code to create a single representation per lineage from the each lineage sample data\n",
    "\n",
    "import os\n",
    "directory=\"/users/prochetasen/GlobalLineageWiseData/\"\n",
    "writeFile=\"/users/prochetasen/allLineageInput.txt\"\n",
    "\n",
    "\n",
    "for filename in os.listdir(directory):\n",
    "    sub_dict={}\n",
    "    amino_dict={}\n",
    "    lineageFile=filename.split(\"_\")[1]\n",
    "    sample_count=0            \n",
    "    with open(\"/users/prochetasen/GlobalLineageWiseData/\"+filename,\"r\") as f:\n",
    "        for line in f:\n",
    "            st=line.split(\"\\n\")[0].split(\"\\t\")\n",
    "            for i in range(1,len(st)):\n",
    "                key=st[i]\n",
    "                if st[i] == \"\":\n",
    "                    continue\n",
    "                if key in sub_dict.keys():\n",
    "                    sub_dict[key]=sub_dict[key]+1\n",
    "                else:\n",
    "                    sub_dict[key]=1\n",
    "            sample_count=sample_count+1\n",
    "    \n",
    "    \n",
    "    l_sample={}\n",
    "    a_sample={}\n",
    "    for key in sub_dict.keys():\n",
    "        sub_dict[key]=sub_dict[key]/sample_count\n",
    "        #threshold is set to 90%\n",
    "        if sub_dict[key] >= 0.90:\n",
    "            l_sample[key]=0\n",
    "    with open(writeFile,\"a\") as f1:\n",
    "        f1.write(str(lineageFile))\n",
    "        f1.write(\"\\t\")\n",
    "        for key in l_sample.keys():\n",
    "            f1.write(key)\n",
    "            f1.write(\"\\t\")\n",
    "        \n",
    "        f1.write(\"\\n\")\n",
    "    f1.close()\n",
    "    "
   ]
  }
 ],
 "metadata": {
  "kernelspec": {
   "display_name": "Python 3",
   "language": "python",
   "name": "python3"
  },
  "language_info": {
   "codemirror_mode": {
    "name": "ipython",
    "version": 3
   },
   "file_extension": ".py",
   "mimetype": "text/x-python",
   "name": "python",
   "nbconvert_exporter": "python",
   "pygments_lexer": "ipython3",
   "version": "3.8.5"
  }
 },
 "nbformat": 4,
 "nbformat_minor": 4
}
